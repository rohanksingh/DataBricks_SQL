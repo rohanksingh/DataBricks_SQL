{
 "cells": [
  {
   "cell_type": "code",
   "execution_count": 0,
   "metadata": {
    "application/vnd.databricks.v1+cell": {
     "cellMetadata": {
      "byteLimit": 2048000,
      "rowLimit": 10000
     },
     "inputWidgets": {},
     "nuid": "5fcfe5e2-394c-439b-9486-bb3d9df30493",
     "showTitle": false,
     "tableResultSettingsMap": {},
     "title": ""
    }
   },
   "outputs": [],
   "source": [
    "import pandas as pd\n",
    "\n",
    "# Read the CSV\n",
    "loan_book = pd.read_csv(\"/Workspace/Users/rohankumarlnu@gmail.com/loan_book.csv\")  # works in notebooks only\n",
    "loan_book\n",
    "\n",
    "# Convert to Spark DataFrame\n",
    "spark_loan_book = spark.createDataFrame(loan_book)\n",
    "\n",
    "# Register as a temporary SQL table\n",
    "\n",
    "spark_loan_book.createOrReplaceTempView(\"loan_book\")\n"
   ]
  },
  {
   "cell_type": "code",
   "execution_count": 0,
   "metadata": {
    "application/vnd.databricks.v1+cell": {
     "cellMetadata": {
      "byteLimit": 2048000,
      "rowLimit": 10000
     },
     "inputWidgets": {},
     "nuid": "f7714e60-2f7e-4997-a3bf-733072c21055",
     "showTitle": false,
     "tableResultSettingsMap": {},
     "title": ""
    }
   },
   "outputs": [],
   "source": [
    "loan_level_panel= pd.read_csv(\"/Workspace/Users/rohankumarlnu@gmail.com/loan_level_panel.csv\")\n",
    "loan_level_panel\n",
    "\n",
    "spark_loan_level_panel= spark.createDataFrame(loan_level_panel)\n",
    "spark_loan_level_panel.createOrReplaceTempView(\"loan_level_panel\")\n",
    "\n"
   ]
  },
  {
   "cell_type": "code",
   "execution_count": 0,
   "metadata": {
    "application/vnd.databricks.v1+cell": {
     "cellMetadata": {
      "byteLimit": 2048000,
      "rowLimit": 10000
     },
     "inputWidgets": {},
     "nuid": "53cfd2f2-ed2b-4275-82fc-c103626bad30",
     "showTitle": false,
     "tableResultSettingsMap": {},
     "title": ""
    }
   },
   "outputs": [],
   "source": [
    "macro= pd.read_csv(\"/Workspace/Users/rohankumarlnu@gmail.com/macro.csv\")\n",
    "macro\n",
    "\n",
    "spark_macro= spark.createDataFrame(macro)\n",
    "spark_macro.createOrReplaceTempView(\"macro\")\n"
   ]
  },
  {
   "cell_type": "code",
   "execution_count": 0,
   "metadata": {
    "application/vnd.databricks.v1+cell": {
     "cellMetadata": {
      "byteLimit": 2048000,
      "rowLimit": 10000
     },
     "inputWidgets": {},
     "nuid": "80da8ed6-1539-4c2e-8f21-bd5d0447fe25",
     "showTitle": false,
     "tableResultSettingsMap": {},
     "title": ""
    }
   },
   "outputs": [],
   "source": [
    "macro_scenario_inputs= pd.read_csv(\"/Workspace/Users/rohankumarlnu@gmail.com/macro_scenario_inputs.csv\")\n",
    "macro_scenario_inputs\n",
    "\n",
    "spark_macro_scenario_inputs= spark.createDataFrame(macro_scenario_inputs)\n",
    "spark_macro_scenario_inputs.createOrReplaceTempView(\"macro_scenario_inputs\")"
   ]
  },
  {
   "cell_type": "code",
   "execution_count": 0,
   "metadata": {
    "application/vnd.databricks.v1+cell": {
     "cellMetadata": {
      "byteLimit": 2048000,
      "rowLimit": 10000
     },
     "inputWidgets": {},
     "nuid": "e5dfa5b2-34cf-4cce-a69a-78d54ac77b3b",
     "showTitle": false,
     "tableResultSettingsMap": {},
     "title": ""
    }
   },
   "outputs": [],
   "source": [
    "stress_position = pd.read_csv(\"/Workspace/Users/rohankumarlnu@gmail.com/stress_position.csv\")\n",
    "stress_position\n",
    "\n",
    "spark_stress_position= spark.createDataFrame(stress_position)\n",
    "spark_stress_position.createOrReplaceTempView(\"stress_position\")"
   ]
  },
  {
   "cell_type": "code",
   "execution_count": 0,
   "metadata": {
    "application/vnd.databricks.v1+cell": {
     "cellMetadata": {
      "byteLimit": 2048000,
      "rowLimit": 10000
     },
     "inputWidgets": {},
     "nuid": "afe8bf90-6113-4314-bc3d-2f40bae82692",
     "showTitle": false,
     "tableResultSettingsMap": {},
     "title": ""
    }
   },
   "outputs": [],
   "source": [
    "trading_book= pd.read_csv(\"/Workspace/Users/rohankumarlnu@gmail.com/trading_book.csv\")\n",
    "trading_book\n",
    "\n",
    "spark_trading_book= spark.createDataFrame(trading_book)\n",
    "spark_trading_book.createOrReplaceTempView(\"trading_book\")"
   ]
  },
  {
   "cell_type": "code",
   "execution_count": 0,
   "metadata": {
    "application/vnd.databricks.v1+cell": {
     "cellMetadata": {
      "byteLimit": 2048000,
      "rowLimit": 10000
     },
     "inputWidgets": {},
     "nuid": "438bea71-0c13-4462-8bb2-d161630d5976",
     "showTitle": false,
     "tableResultSettingsMap": {},
     "title": ""
    }
   },
   "outputs": [],
   "source": [
    "isg_lending= pd.read_csv(\"/Workspace/Users/rohankumarlnu@gmail.com/isg_lending.csv\")\n",
    "isg_lending\n",
    "\n",
    "spark_isg_lending= spark.createDataFrame(isg_lending)\n",
    "spark_isg_lending.createOrReplaceTempView(\"isg_lending\")"
   ]
  },
  {
   "cell_type": "code",
   "execution_count": 0,
   "metadata": {
    "application/vnd.databricks.v1+cell": {
     "cellMetadata": {
      "byteLimit": 2048000,
      "implicitDf": true,
      "rowLimit": 10000
     },
     "inputWidgets": {},
     "nuid": "15254044-a46a-4177-9453-5f4134bd8848",
     "showTitle": false,
     "tableResultSettingsMap": {},
     "title": ""
    }
   },
   "outputs": [
    {
     "output_type": "display_data",
     "data": {
      "text/html": [
       "<style scoped>\n",
       "  .table-result-container {\n",
       "    max-height: 300px;\n",
       "    overflow: auto;\n",
       "  }\n",
       "  table, th, td {\n",
       "    border: 1px solid black;\n",
       "    border-collapse: collapse;\n",
       "  }\n",
       "  th, td {\n",
       "    padding: 5px;\n",
       "  }\n",
       "  th {\n",
       "    text-align: left;\n",
       "  }\n",
       "</style><div class='table-result-container'><table class='table-result'><thead style='background-color: white'><tr><th>loan_id</th><th>orig_date</th><th>fico_bin</th><th>cltv_bin</th><th>MOB</th><th>product_type</th><th>exposure</th><th>as_of_date</th></tr></thead><tbody><tr><td>L001</td><td>1/1/2022</td><td>660-700</td><td>80-90</td><td>39.0</td><td>Term Loan</td><td>1,000</td><td>4/1/2025</td></tr><tr><td>L002</td><td>6/1/2023</td><td>720-750</td><td>70-80</td><td>22.0</td><td>Revolver</td><td>500</td><td>4/1/2025</td></tr><tr><td>L003</td><td>4/1/2021</td><td>600-640</td><td>90-100</td><td>48.0</td><td>Term Loan</td><td>2,000</td><td>4/1/2025</td></tr><tr><td>null</td><td>null</td><td>null</td><td>null</td><td>null</td><td>null</td><td>null</td><td>null</td></tr></tbody></table></div>"
      ]
     },
     "metadata": {
      "application/vnd.databricks.v1+output": {
       "addedWidgets": {},
       "aggData": [],
       "aggError": "",
       "aggOverflow": false,
       "aggSchema": [],
       "aggSeriesLimitReached": false,
       "aggType": "",
       "arguments": {},
       "columnCustomDisplayInfos": {},
       "data": [
        [
         "L001",
         "1/1/2022",
         "660-700",
         "80-90",
         39.0,
         "Term Loan",
         "1,000",
         "4/1/2025"
        ],
        [
         "L002",
         "6/1/2023",
         "720-750",
         "70-80",
         22.0,
         "Revolver",
         "500",
         "4/1/2025"
        ],
        [
         "L003",
         "4/1/2021",
         "600-640",
         "90-100",
         48.0,
         "Term Loan",
         "2,000",
         "4/1/2025"
        ],
        [
         null,
         null,
         null,
         null,
         null,
         null,
         null,
         null
        ]
       ],
       "datasetInfos": [
        {
         "name": "_sqldf",
         "schema": {
          "fields": [
           {
            "metadata": {},
            "name": "loan_id",
            "nullable": true,
            "type": "string"
           },
           {
            "metadata": {},
            "name": "orig_date",
            "nullable": true,
            "type": "string"
           },
           {
            "metadata": {},
            "name": "fico_bin",
            "nullable": true,
            "type": "string"
           },
           {
            "metadata": {},
            "name": "cltv_bin",
            "nullable": true,
            "type": "string"
           },
           {
            "metadata": {},
            "name": "MOB",
            "nullable": true,
            "type": "double"
           },
           {
            "metadata": {},
            "name": "product_type",
            "nullable": true,
            "type": "string"
           },
           {
            "metadata": {},
            "name": "exposure",
            "nullable": true,
            "type": "string"
           },
           {
            "metadata": {},
            "name": "as_of_date",
            "nullable": true,
            "type": "string"
           }
          ],
          "type": "struct"
         },
         "tableIdentifier": null,
         "typeStr": "pyspark.sql.connect.dataframe.DataFrame"
        }
       ],
       "dbfsResultPath": null,
       "isJsonSchema": true,
       "metadata": {
        "createTempViewForImplicitDf": true,
        "dataframeName": "_sqldf",
        "executionCount": 125
       },
       "overflow": false,
       "plotOptions": {
        "customPlotOptions": {},
        "displayType": "table",
        "pivotAggregation": null,
        "pivotColumns": null,
        "xColumns": null,
        "yColumns": null
       },
       "removedWidgets": [],
       "schema": [
        {
         "metadata": "{}",
         "name": "loan_id",
         "type": "\"string\""
        },
        {
         "metadata": "{}",
         "name": "orig_date",
         "type": "\"string\""
        },
        {
         "metadata": "{}",
         "name": "fico_bin",
         "type": "\"string\""
        },
        {
         "metadata": "{}",
         "name": "cltv_bin",
         "type": "\"string\""
        },
        {
         "metadata": "{}",
         "name": "MOB",
         "type": "\"double\""
        },
        {
         "metadata": "{}",
         "name": "product_type",
         "type": "\"string\""
        },
        {
         "metadata": "{}",
         "name": "exposure",
         "type": "\"string\""
        },
        {
         "metadata": "{}",
         "name": "as_of_date",
         "type": "\"string\""
        }
       ],
       "type": "table"
      }
     },
     "output_type": "display_data"
    }
   ],
   "source": [
    "%sql\n",
    "\n",
    "select * from loan_book"
   ]
  },
  {
   "cell_type": "code",
   "execution_count": 0,
   "metadata": {
    "application/vnd.databricks.v1+cell": {
     "cellMetadata": {
      "byteLimit": 2048000,
      "implicitDf": true,
      "rowLimit": 10000
     },
     "inputWidgets": {},
     "nuid": "40681823-7183-4bbc-8589-07e2daec0ed8",
     "showTitle": false,
     "tableResultSettingsMap": {},
     "title": ""
    }
   },
   "outputs": [
    {
     "output_type": "display_data",
     "data": {
      "text/html": [
       "<style scoped>\n",
       "  .table-result-container {\n",
       "    max-height: 300px;\n",
       "    overflow: auto;\n",
       "  }\n",
       "  table, th, td {\n",
       "    border: 1px solid black;\n",
       "    border-collapse: collapse;\n",
       "  }\n",
       "  th, td {\n",
       "    padding: 5px;\n",
       "  }\n",
       "  th {\n",
       "    text-align: left;\n",
       "  }\n",
       "</style><div class='table-result-container'><table class='table-result'><thead style='background-color: white'><tr><th>trade_id</th><th>instrument_type</th><th>issuer</th><th>market_value</th><th>sector</th><th>rating</th><th>duration</th><th>spread</th><th>as_of_date</th><th>Unnamed: 9</th></tr></thead><tbody><tr><td>TB001</td><td>Bond</td><td>T-Mobile</td><td>3000000.0</td><td>Telecom</td><td>BBB</td><td>5.0</td><td>2.3</td><td>3/31/2025</td><td>null</td></tr><tr><td>TB002</td><td>CDS</td><td>Chevron</td><td>1500000.0</td><td>Energy</td><td>A</td><td>3.0</td><td>1.8</td><td>3/31/2025</td><td>null</td></tr><tr><td>TB003</td><td>MBS</td><td>FannieMae</td><td>2500000.0</td><td>Mortgages</td><td>AA</td><td>6.0</td><td>1.5</td><td>3/31/2025</td><td>null</td></tr><tr><td>null</td><td>null</td><td>null</td><td>null</td><td>null</td><td>null</td><td>null</td><td>null</td><td>null</td><td>null</td></tr></tbody></table></div>"
      ]
     },
     "metadata": {
      "application/vnd.databricks.v1+output": {
       "addedWidgets": {},
       "aggData": [],
       "aggError": "",
       "aggOverflow": false,
       "aggSchema": [],
       "aggSeriesLimitReached": false,
       "aggType": "",
       "arguments": {},
       "columnCustomDisplayInfos": {},
       "data": [
        [
         "TB001",
         "Bond",
         "T-Mobile",
         3000000.0,
         "Telecom",
         "BBB",
         5.0,
         2.3,
         "3/31/2025",
         null
        ],
        [
         "TB002",
         "CDS",
         "Chevron",
         1500000.0,
         "Energy",
         "A",
         3.0,
         1.8,
         "3/31/2025",
         null
        ],
        [
         "TB003",
         "MBS",
         "FannieMae",
         2500000.0,
         "Mortgages",
         "AA",
         6.0,
         1.5,
         "3/31/2025",
         null
        ],
        [
         null,
         null,
         null,
         null,
         null,
         null,
         null,
         null,
         null,
         null
        ]
       ],
       "datasetInfos": [
        {
         "name": "_sqldf",
         "schema": {
          "fields": [
           {
            "metadata": {},
            "name": "trade_id",
            "nullable": true,
            "type": "string"
           },
           {
            "metadata": {},
            "name": "instrument_type",
            "nullable": true,
            "type": "string"
           },
           {
            "metadata": {},
            "name": "issuer",
            "nullable": true,
            "type": "string"
           },
           {
            "metadata": {},
            "name": "market_value",
            "nullable": true,
            "type": "double"
           },
           {
            "metadata": {},
            "name": "sector",
            "nullable": true,
            "type": "string"
           },
           {
            "metadata": {},
            "name": "rating",
            "nullable": true,
            "type": "string"
           },
           {
            "metadata": {},
            "name": "duration",
            "nullable": true,
            "type": "double"
           },
           {
            "metadata": {},
            "name": "spread",
            "nullable": true,
            "type": "double"
           },
           {
            "metadata": {},
            "name": "as_of_date",
            "nullable": true,
            "type": "string"
           },
           {
            "metadata": {},
            "name": "Unnamed: 9",
            "nullable": true,
            "type": "double"
           }
          ],
          "type": "struct"
         },
         "tableIdentifier": null,
         "typeStr": "pyspark.sql.connect.dataframe.DataFrame"
        }
       ],
       "dbfsResultPath": null,
       "isJsonSchema": true,
       "metadata": {
        "createTempViewForImplicitDf": true,
        "dataframeName": "_sqldf",
        "executionCount": 139
       },
       "overflow": false,
       "plotOptions": {
        "customPlotOptions": {},
        "displayType": "table",
        "pivotAggregation": null,
        "pivotColumns": null,
        "xColumns": null,
        "yColumns": null
       },
       "removedWidgets": [],
       "schema": [
        {
         "metadata": "{}",
         "name": "trade_id",
         "type": "\"string\""
        },
        {
         "metadata": "{}",
         "name": "instrument_type",
         "type": "\"string\""
        },
        {
         "metadata": "{}",
         "name": "issuer",
         "type": "\"string\""
        },
        {
         "metadata": "{}",
         "name": "market_value",
         "type": "\"double\""
        },
        {
         "metadata": "{}",
         "name": "sector",
         "type": "\"string\""
        },
        {
         "metadata": "{}",
         "name": "rating",
         "type": "\"string\""
        },
        {
         "metadata": "{}",
         "name": "duration",
         "type": "\"double\""
        },
        {
         "metadata": "{}",
         "name": "spread",
         "type": "\"double\""
        },
        {
         "metadata": "{}",
         "name": "as_of_date",
         "type": "\"string\""
        },
        {
         "metadata": "{}",
         "name": "Unnamed: 9",
         "type": "\"double\""
        }
       ],
       "type": "table"
      }
     },
     "output_type": "display_data"
    }
   ],
   "source": [
    "%sql \n",
    "select * from trading_book\n"
   ]
  },
  {
   "cell_type": "code",
   "execution_count": 0,
   "metadata": {
    "application/vnd.databricks.v1+cell": {
     "cellMetadata": {},
     "inputWidgets": {},
     "nuid": "29d2259d-e0bb-45a4-a8f6-1f5c20571af9",
     "showTitle": false,
     "tableResultSettingsMap": {},
     "title": ""
    }
   },
   "outputs": [],
   "source": []
  },
  {
   "cell_type": "code",
   "execution_count": 0,
   "metadata": {
    "application/vnd.databricks.v1+cell": {
     "cellMetadata": {
      "byteLimit": 2048000,
      "implicitDf": true,
      "rowLimit": 10000
     },
     "inputWidgets": {},
     "nuid": "ca2be407-ea5d-4544-acad-749b55199cbf",
     "showTitle": false,
     "tableResultSettingsMap": {},
     "title": ""
    }
   },
   "outputs": [
    {
     "output_type": "display_data",
     "data": {
      "text/html": [
       "<style scoped>\n",
       "  .table-result-container {\n",
       "    max-height: 300px;\n",
       "    overflow: auto;\n",
       "  }\n",
       "  table, th, td {\n",
       "    border: 1px solid black;\n",
       "    border-collapse: collapse;\n",
       "  }\n",
       "  th, td {\n",
       "    padding: 5px;\n",
       "  }\n",
       "  th {\n",
       "    text-align: left;\n",
       "  }\n",
       "</style><div class='table-result-container'><table class='table-result'><thead style='background-color: white'><tr><th>lending_id</th><th>counterparty</th><th>product_type</th><th>exposure_amt</th><th>loan_rating</th><th>origination_date</th><th>maturity_date</th><th>currency</th><th>sector</th><th>as_of_date</th></tr></thead><tbody><tr><td>LND001</td><td>Apollo Capital</td><td>Term Loan</td><td>1.2E7</td><td>BBB</td><td>5/1/2021</td><td>5/1/2026</td><td>USD</td><td>Private Eq.</td><td>3/31/2025</td></tr><tr><td>LND002</td><td>GM Financial</td><td>Warehouse Line</td><td>8000000.0</td><td>BB+</td><td>8/15/2022</td><td>8/15/2027</td><td>USD</td><td>Auto</td><td>3/31/2025</td></tr><tr><td>LND003</td><td>Barclays</td><td>Revolving Credit</td><td>5000000.0</td><td>A</td><td>3/1/2023</td><td>3/1/2026</td><td>USD</td><td>Banking</td><td>3/31/2025</td></tr><tr><td>null</td><td>null</td><td>null</td><td>null</td><td>null</td><td>null</td><td>null</td><td>null</td><td>null</td><td>null</td></tr></tbody></table></div>"
      ]
     },
     "metadata": {
      "application/vnd.databricks.v1+output": {
       "addedWidgets": {},
       "aggData": [],
       "aggError": "",
       "aggOverflow": false,
       "aggSchema": [],
       "aggSeriesLimitReached": false,
       "aggType": "",
       "arguments": {},
       "columnCustomDisplayInfos": {},
       "data": [
        [
         "LND001",
         "Apollo Capital",
         "Term Loan",
         1.2E7,
         "BBB",
         "5/1/2021",
         "5/1/2026",
         "USD",
         "Private Eq.",
         "3/31/2025"
        ],
        [
         "LND002",
         "GM Financial",
         "Warehouse Line",
         8000000.0,
         "BB+",
         "8/15/2022",
         "8/15/2027",
         "USD",
         "Auto",
         "3/31/2025"
        ],
        [
         "LND003",
         "Barclays",
         "Revolving Credit",
         5000000.0,
         "A",
         "3/1/2023",
         "3/1/2026",
         "USD",
         "Banking",
         "3/31/2025"
        ],
        [
         null,
         null,
         null,
         null,
         null,
         null,
         null,
         null,
         null,
         null
        ]
       ],
       "datasetInfos": [
        {
         "name": "_sqldf",
         "schema": {
          "fields": [
           {
            "metadata": {},
            "name": "lending_id",
            "nullable": true,
            "type": "string"
           },
           {
            "metadata": {},
            "name": "counterparty",
            "nullable": true,
            "type": "string"
           },
           {
            "metadata": {},
            "name": "product_type",
            "nullable": true,
            "type": "string"
           },
           {
            "metadata": {},
            "name": "exposure_amt",
            "nullable": true,
            "type": "double"
           },
           {
            "metadata": {},
            "name": "loan_rating",
            "nullable": true,
            "type": "string"
           },
           {
            "metadata": {},
            "name": "origination_date",
            "nullable": true,
            "type": "string"
           },
           {
            "metadata": {},
            "name": "maturity_date",
            "nullable": true,
            "type": "string"
           },
           {
            "metadata": {},
            "name": "currency",
            "nullable": true,
            "type": "string"
           },
           {
            "metadata": {},
            "name": "sector",
            "nullable": true,
            "type": "string"
           },
           {
            "metadata": {},
            "name": "as_of_date",
            "nullable": true,
            "type": "string"
           }
          ],
          "type": "struct"
         },
         "tableIdentifier": null,
         "typeStr": "pyspark.sql.connect.dataframe.DataFrame"
        }
       ],
       "dbfsResultPath": null,
       "isJsonSchema": true,
       "metadata": {
        "createTempViewForImplicitDf": true,
        "dataframeName": "_sqldf",
        "executionCount": 158
       },
       "overflow": false,
       "plotOptions": {
        "customPlotOptions": {},
        "displayType": "table",
        "pivotAggregation": null,
        "pivotColumns": null,
        "xColumns": null,
        "yColumns": null
       },
       "removedWidgets": [],
       "schema": [
        {
         "metadata": "{}",
         "name": "lending_id",
         "type": "\"string\""
        },
        {
         "metadata": "{}",
         "name": "counterparty",
         "type": "\"string\""
        },
        {
         "metadata": "{}",
         "name": "product_type",
         "type": "\"string\""
        },
        {
         "metadata": "{}",
         "name": "exposure_amt",
         "type": "\"double\""
        },
        {
         "metadata": "{}",
         "name": "loan_rating",
         "type": "\"string\""
        },
        {
         "metadata": "{}",
         "name": "origination_date",
         "type": "\"string\""
        },
        {
         "metadata": "{}",
         "name": "maturity_date",
         "type": "\"string\""
        },
        {
         "metadata": "{}",
         "name": "currency",
         "type": "\"string\""
        },
        {
         "metadata": "{}",
         "name": "sector",
         "type": "\"string\""
        },
        {
         "metadata": "{}",
         "name": "as_of_date",
         "type": "\"string\""
        }
       ],
       "type": "table"
      }
     },
     "output_type": "display_data"
    }
   ],
   "source": [
    "%sql\n",
    "\n",
    "select * from isg_lending\n",
    "\n"
   ]
  },
  {
   "cell_type": "code",
   "execution_count": 0,
   "metadata": {
    "application/vnd.databricks.v1+cell": {
     "cellMetadata": {
      "byteLimit": 2048000,
      "implicitDf": true,
      "rowLimit": 10000
     },
     "inputWidgets": {},
     "nuid": "42c545fb-040d-45f6-9a6b-88fb20bfc827",
     "showTitle": false,
     "tableResultSettingsMap": {},
     "title": ""
    }
   },
   "outputs": [
    {
     "output_type": "display_data",
     "data": {
      "text/html": [
       "<style scoped>\n",
       "  .table-result-container {\n",
       "    max-height: 300px;\n",
       "    overflow: auto;\n",
       "  }\n",
       "  table, th, td {\n",
       "    border: 1px solid black;\n",
       "    border-collapse: collapse;\n",
       "  }\n",
       "  th, td {\n",
       "    padding: 5px;\n",
       "  }\n",
       "  th {\n",
       "    text-align: left;\n",
       "  }\n",
       "</style><div class='table-result-container'><table class='table-result'><thead style='background-color: white'><tr><th>product_type</th><th>total_exposure</th></tr></thead><tbody><tr><td>Term Loan</td><td>1.2E7</td></tr><tr><td>Warehouse Line</td><td>8000000.0</td></tr><tr><td>Revolving Credit</td><td>5000000.0</td></tr><tr><td>null</td><td>null</td></tr></tbody></table></div>"
      ]
     },
     "metadata": {
      "application/vnd.databricks.v1+output": {
       "addedWidgets": {},
       "aggData": [],
       "aggError": "",
       "aggOverflow": false,
       "aggSchema": [],
       "aggSeriesLimitReached": false,
       "aggType": "",
       "arguments": {},
       "columnCustomDisplayInfos": {},
       "data": [
        [
         "Term Loan",
         1.2E7
        ],
        [
         "Warehouse Line",
         8000000.0
        ],
        [
         "Revolving Credit",
         5000000.0
        ],
        [
         null,
         null
        ]
       ],
       "datasetInfos": [
        {
         "name": "_sqldf",
         "schema": {
          "fields": [
           {
            "metadata": {},
            "name": "product_type",
            "nullable": true,
            "type": "string"
           },
           {
            "metadata": {},
            "name": "total_exposure",
            "nullable": true,
            "type": "double"
           }
          ],
          "type": "struct"
         },
         "tableIdentifier": null,
         "typeStr": "pyspark.sql.connect.dataframe.DataFrame"
        }
       ],
       "dbfsResultPath": null,
       "isJsonSchema": true,
       "metadata": {
        "createTempViewForImplicitDf": true,
        "dataframeName": "_sqldf",
        "executionCount": 160
       },
       "overflow": false,
       "plotOptions": {
        "customPlotOptions": {},
        "displayType": "table",
        "pivotAggregation": null,
        "pivotColumns": null,
        "xColumns": null,
        "yColumns": null
       },
       "removedWidgets": [],
       "schema": [
        {
         "metadata": "{}",
         "name": "product_type",
         "type": "\"string\""
        },
        {
         "metadata": "{}",
         "name": "total_exposure",
         "type": "\"double\""
        }
       ],
       "type": "table"
      }
     },
     "output_type": "display_data"
    }
   ],
   "source": [
    "%sql\n",
    "\n",
    "select product_type, sum(exposure_amt) as total_exposure from isg_lending group by product_type"
   ]
  },
  {
   "cell_type": "code",
   "execution_count": 0,
   "metadata": {
    "application/vnd.databricks.v1+cell": {
     "cellMetadata": {
      "byteLimit": 2048000,
      "implicitDf": true,
      "rowLimit": 10000
     },
     "inputWidgets": {},
     "nuid": "8e94e117-b200-4517-80e8-9072de5de0d3",
     "showTitle": false,
     "tableResultSettingsMap": {},
     "title": ""
    }
   },
   "outputs": [
    {
     "output_type": "display_data",
     "data": {
      "text/html": [
       "<style scoped>\n",
       "  .table-result-container {\n",
       "    max-height: 300px;\n",
       "    overflow: auto;\n",
       "  }\n",
       "  table, th, td {\n",
       "    border: 1px solid black;\n",
       "    border-collapse: collapse;\n",
       "  }\n",
       "  th, td {\n",
       "    padding: 5px;\n",
       "  }\n",
       "  th {\n",
       "    text-align: left;\n",
       "  }\n",
       "</style><div class='table-result-container'><table class='table-result'><thead style='background-color: white'><tr><th>fico_bin</th><th>avg_default</th></tr></thead><tbody><tr><td>660-700</td><td>0.008</td></tr><tr><td>700-740</td><td>0.012</td></tr><tr><td>600-660</td><td>0.025</td></tr><tr><td>null</td><td>null</td></tr></tbody></table></div>"
      ]
     },
     "metadata": {
      "application/vnd.databricks.v1+output": {
       "addedWidgets": {},
       "aggData": [],
       "aggError": "",
       "aggOverflow": false,
       "aggSchema": [],
       "aggSeriesLimitReached": false,
       "aggType": "",
       "arguments": {},
       "columnCustomDisplayInfos": {},
       "data": [
        [
         "660-700",
         0.008
        ],
        [
         "700-740",
         0.012
        ],
        [
         "600-660",
         0.025
        ],
        [
         null,
         null
        ]
       ],
       "datasetInfos": [
        {
         "name": "_sqldf",
         "schema": {
          "fields": [
           {
            "metadata": {},
            "name": "fico_bin",
            "nullable": true,
            "type": "string"
           },
           {
            "metadata": {},
            "name": "avg_default",
            "nullable": true,
            "type": "double"
           }
          ],
          "type": "struct"
         },
         "tableIdentifier": null,
         "typeStr": "pyspark.sql.connect.dataframe.DataFrame"
        }
       ],
       "dbfsResultPath": null,
       "isJsonSchema": true,
       "metadata": {
        "createTempViewForImplicitDf": true,
        "dataframeName": "_sqldf",
        "executionCount": 163
       },
       "overflow": false,
       "plotOptions": {
        "customPlotOptions": {},
        "displayType": "table",
        "pivotAggregation": null,
        "pivotColumns": null,
        "xColumns": null,
        "yColumns": null
       },
       "removedWidgets": [],
       "schema": [
        {
         "metadata": "{}",
         "name": "fico_bin",
         "type": "\"string\""
        },
        {
         "metadata": "{}",
         "name": "avg_default",
         "type": "\"double\""
        }
       ],
       "type": "table"
      }
     },
     "output_type": "display_data"
    }
   ],
   "source": [
    "%sql\n",
    "\n",
    "select fico_bin, avg(default_rate) as avg_default from loan_level_panel group by fico_bin"
   ]
  },
  {
   "cell_type": "code",
   "execution_count": 0,
   "metadata": {
    "application/vnd.databricks.v1+cell": {
     "cellMetadata": {
      "byteLimit": 2048000,
      "rowLimit": 10000
     },
     "inputWidgets": {},
     "nuid": "261fb838-c17c-446c-becc-c6b581b29e25",
     "showTitle": false,
     "tableResultSettingsMap": {},
     "title": ""
    }
   },
   "outputs": [],
   "source": [
    "isg_exposures= pd.read_csv(\"/Workspace/Users/rohankumarlnu@gmail.com/isg_exposures.csv\")\n",
    "isg_exposures\n",
    "\n",
    "spark_isg_exposures= spark.createDataFrame(isg_exposures)\n",
    "spark_isg_exposures.createOrReplaceTempView(\"isg_exposures\")"
   ]
  },
  {
   "cell_type": "code",
   "execution_count": 0,
   "metadata": {
    "application/vnd.databricks.v1+cell": {
     "cellMetadata": {
      "byteLimit": 2048000,
      "implicitDf": true,
      "rowLimit": 10000
     },
     "inputWidgets": {},
     "nuid": "d4c3be3e-ed51-481c-b83d-d4b82f1c9ce6",
     "showTitle": false,
     "tableResultSettingsMap": {},
     "title": ""
    }
   },
   "outputs": [
    {
     "output_type": "display_data",
     "data": {
      "text/html": [
       "<style scoped>\n",
       "  .table-result-container {\n",
       "    max-height: 300px;\n",
       "    overflow: auto;\n",
       "  }\n",
       "  table, th, td {\n",
       "    border: 1px solid black;\n",
       "    border-collapse: collapse;\n",
       "  }\n",
       "  th, td {\n",
       "    padding: 5px;\n",
       "  }\n",
       "  th {\n",
       "    text-align: left;\n",
       "  }\n",
       "</style><div class='table-result-container'><table class='table-result'><thead style='background-color: white'><tr><th>exposure_id</th><th>counterparty</th><th>sector</th><th>product_type</th><th>notional</th><th>rating</th><th>as_of_date</th></tr></thead><tbody><tr><td>101</td><td>JPM</td><td>Financials</td><td>Bond</td><td>25,000</td><td>A</td><td>3/31/2025</td></tr><tr><td>102</td><td>T-Mobile</td><td>Telecom</td><td>Loan</td><td>10,000</td><td>BBB</td><td>3/31/2025</td></tr><tr><td>103</td><td>Blackstone</td><td>RealEstate</td><td>Repo</td><td>5,000</td><td>A</td><td>3/31/2025</td></tr><tr><td>104</td><td>Shell</td><td>Energy</td><td>CDS</td><td>8,000</td><td>AA</td><td>3/31/2025</td></tr></tbody></table></div>"
      ]
     },
     "metadata": {
      "application/vnd.databricks.v1+output": {
       "addedWidgets": {},
       "aggData": [],
       "aggError": "",
       "aggOverflow": false,
       "aggSchema": [],
       "aggSeriesLimitReached": false,
       "aggType": "",
       "arguments": {},
       "columnCustomDisplayInfos": {},
       "data": [
        [
         101,
         "JPM",
         "Financials",
         "Bond",
         "25,000",
         "A",
         "3/31/2025"
        ],
        [
         102,
         "T-Mobile",
         "Telecom",
         "Loan",
         "10,000",
         "BBB",
         "3/31/2025"
        ],
        [
         103,
         "Blackstone",
         "RealEstate",
         "Repo",
         "5,000",
         "A",
         "3/31/2025"
        ],
        [
         104,
         "Shell",
         "Energy",
         "CDS",
         "8,000",
         "AA",
         "3/31/2025"
        ]
       ],
       "datasetInfos": [
        {
         "name": "_sqldf",
         "schema": {
          "fields": [
           {
            "metadata": {},
            "name": "exposure_id",
            "nullable": true,
            "type": "long"
           },
           {
            "metadata": {},
            "name": "counterparty",
            "nullable": true,
            "type": "string"
           },
           {
            "metadata": {},
            "name": "sector",
            "nullable": true,
            "type": "string"
           },
           {
            "metadata": {},
            "name": "product_type",
            "nullable": true,
            "type": "string"
           },
           {
            "metadata": {},
            "name": "notional",
            "nullable": true,
            "type": "string"
           },
           {
            "metadata": {},
            "name": "rating",
            "nullable": true,
            "type": "string"
           },
           {
            "metadata": {},
            "name": "as_of_date",
            "nullable": true,
            "type": "string"
           }
          ],
          "type": "struct"
         },
         "tableIdentifier": null,
         "typeStr": "pyspark.sql.connect.dataframe.DataFrame"
        }
       ],
       "dbfsResultPath": null,
       "isJsonSchema": true,
       "metadata": {
        "createTempViewForImplicitDf": true,
        "dataframeName": "_sqldf",
        "executionCount": 178
       },
       "overflow": false,
       "plotOptions": {
        "customPlotOptions": {},
        "displayType": "table",
        "pivotAggregation": null,
        "pivotColumns": null,
        "xColumns": null,
        "yColumns": null
       },
       "removedWidgets": [],
       "schema": [
        {
         "metadata": "{}",
         "name": "exposure_id",
         "type": "\"long\""
        },
        {
         "metadata": "{}",
         "name": "counterparty",
         "type": "\"string\""
        },
        {
         "metadata": "{}",
         "name": "sector",
         "type": "\"string\""
        },
        {
         "metadata": "{}",
         "name": "product_type",
         "type": "\"string\""
        },
        {
         "metadata": "{}",
         "name": "notional",
         "type": "\"string\""
        },
        {
         "metadata": "{}",
         "name": "rating",
         "type": "\"string\""
        },
        {
         "metadata": "{}",
         "name": "as_of_date",
         "type": "\"string\""
        }
       ],
       "type": "table"
      }
     },
     "output_type": "display_data"
    }
   ],
   "source": [
    "%sql\n",
    "select * from isg_exposures"
   ]
  },
  {
   "cell_type": "code",
   "execution_count": 0,
   "metadata": {
    "application/vnd.databricks.v1+cell": {
     "cellMetadata": {
      "byteLimit": 2048000,
      "implicitDf": true,
      "rowLimit": 10000
     },
     "inputWidgets": {},
     "nuid": "1ffb35dd-adaf-4397-adb1-ea6cdf894ea3",
     "showTitle": false,
     "tableResultSettingsMap": {},
     "title": ""
    }
   },
   "outputs": [],
   "source": [
    "%sql\n",
    "create or replace temporary view isg_exposures_view as select *, cast(replace(notional, ',', '') as double)  as notional_double from isg_exposures"
   ]
  },
  {
   "cell_type": "code",
   "execution_count": 0,
   "metadata": {
    "application/vnd.databricks.v1+cell": {
     "cellMetadata": {
      "byteLimit": 2048000,
      "implicitDf": true,
      "rowLimit": 10000
     },
     "inputWidgets": {},
     "nuid": "c4f2273b-dd47-4c26-b16a-7e3092892269",
     "showTitle": false,
     "tableResultSettingsMap": {},
     "title": ""
    }
   },
   "outputs": [
    {
     "output_type": "display_data",
     "data": {
      "text/html": [
       "<style scoped>\n",
       "  .table-result-container {\n",
       "    max-height: 300px;\n",
       "    overflow: auto;\n",
       "  }\n",
       "  table, th, td {\n",
       "    border: 1px solid black;\n",
       "    border-collapse: collapse;\n",
       "  }\n",
       "  th, td {\n",
       "    padding: 5px;\n",
       "  }\n",
       "  th {\n",
       "    text-align: left;\n",
       "  }\n",
       "</style><div class='table-result-container'><table class='table-result'><thead style='background-color: white'><tr><th>exposure_id</th><th>counterparty</th><th>sector</th><th>product_type</th><th>notional</th><th>rating</th><th>as_of_date</th><th>notional_double</th></tr></thead><tbody><tr><td>101</td><td>JPM</td><td>Financials</td><td>Bond</td><td>25,000</td><td>A</td><td>3/31/2025</td><td>25000.0</td></tr><tr><td>102</td><td>T-Mobile</td><td>Telecom</td><td>Loan</td><td>10,000</td><td>BBB</td><td>3/31/2025</td><td>10000.0</td></tr><tr><td>103</td><td>Blackstone</td><td>RealEstate</td><td>Repo</td><td>5,000</td><td>A</td><td>3/31/2025</td><td>5000.0</td></tr><tr><td>104</td><td>Shell</td><td>Energy</td><td>CDS</td><td>8,000</td><td>AA</td><td>3/31/2025</td><td>8000.0</td></tr></tbody></table></div>"
      ]
     },
     "metadata": {
      "application/vnd.databricks.v1+output": {
       "addedWidgets": {},
       "aggData": [],
       "aggError": "",
       "aggOverflow": false,
       "aggSchema": [],
       "aggSeriesLimitReached": false,
       "aggType": "",
       "arguments": {},
       "columnCustomDisplayInfos": {},
       "data": [
        [
         101,
         "JPM",
         "Financials",
         "Bond",
         "25,000",
         "A",
         "3/31/2025",
         25000.0
        ],
        [
         102,
         "T-Mobile",
         "Telecom",
         "Loan",
         "10,000",
         "BBB",
         "3/31/2025",
         10000.0
        ],
        [
         103,
         "Blackstone",
         "RealEstate",
         "Repo",
         "5,000",
         "A",
         "3/31/2025",
         5000.0
        ],
        [
         104,
         "Shell",
         "Energy",
         "CDS",
         "8,000",
         "AA",
         "3/31/2025",
         8000.0
        ]
       ],
       "datasetInfos": [
        {
         "name": "_sqldf",
         "schema": {
          "fields": [
           {
            "metadata": {},
            "name": "exposure_id",
            "nullable": true,
            "type": "long"
           },
           {
            "metadata": {},
            "name": "counterparty",
            "nullable": true,
            "type": "string"
           },
           {
            "metadata": {},
            "name": "sector",
            "nullable": true,
            "type": "string"
           },
           {
            "metadata": {},
            "name": "product_type",
            "nullable": true,
            "type": "string"
           },
           {
            "metadata": {},
            "name": "notional",
            "nullable": true,
            "type": "string"
           },
           {
            "metadata": {},
            "name": "rating",
            "nullable": true,
            "type": "string"
           },
           {
            "metadata": {},
            "name": "as_of_date",
            "nullable": true,
            "type": "string"
           },
           {
            "metadata": {},
            "name": "notional_double",
            "nullable": true,
            "type": "double"
           }
          ],
          "type": "struct"
         },
         "tableIdentifier": null,
         "typeStr": "pyspark.sql.connect.dataframe.DataFrame"
        }
       ],
       "dbfsResultPath": null,
       "isJsonSchema": true,
       "metadata": {
        "createTempViewForImplicitDf": true,
        "dataframeName": "_sqldf",
        "executionCount": 239
       },
       "overflow": false,
       "plotOptions": {
        "customPlotOptions": {},
        "displayType": "table",
        "pivotAggregation": null,
        "pivotColumns": null,
        "xColumns": null,
        "yColumns": null
       },
       "removedWidgets": [],
       "schema": [
        {
         "metadata": "{}",
         "name": "exposure_id",
         "type": "\"long\""
        },
        {
         "metadata": "{}",
         "name": "counterparty",
         "type": "\"string\""
        },
        {
         "metadata": "{}",
         "name": "sector",
         "type": "\"string\""
        },
        {
         "metadata": "{}",
         "name": "product_type",
         "type": "\"string\""
        },
        {
         "metadata": "{}",
         "name": "notional",
         "type": "\"string\""
        },
        {
         "metadata": "{}",
         "name": "rating",
         "type": "\"string\""
        },
        {
         "metadata": "{}",
         "name": "as_of_date",
         "type": "\"string\""
        },
        {
         "metadata": "{}",
         "name": "notional_double",
         "type": "\"double\""
        }
       ],
       "type": "table"
      }
     },
     "output_type": "display_data"
    }
   ],
   "source": [
    "%sql\n",
    "\n",
    "select * from isg_exposures_view"
   ]
  },
  {
   "cell_type": "code",
   "execution_count": 0,
   "metadata": {
    "application/vnd.databricks.v1+cell": {
     "cellMetadata": {
      "byteLimit": 2048000,
      "implicitDf": true,
      "rowLimit": 10000
     },
     "inputWidgets": {},
     "nuid": "2b2f4ad5-e689-4615-9e92-a6f2d0588d43",
     "showTitle": true,
     "tableResultSettingsMap": {},
     "title": "ioa"
    }
   },
   "outputs": [
    {
     "output_type": "display_data",
     "data": {
      "text/html": [
       "<style scoped>\n",
       "  .table-result-container {\n",
       "    max-height: 300px;\n",
       "    overflow: auto;\n",
       "  }\n",
       "  table, th, td {\n",
       "    border: 1px solid black;\n",
       "    border-collapse: collapse;\n",
       "  }\n",
       "  th, td {\n",
       "    padding: 5px;\n",
       "  }\n",
       "  th {\n",
       "    text-align: left;\n",
       "  }\n",
       "</style><div class='table-result-container'><table class='table-result'><thead style='background-color: white'><tr><th>sector</th><th>total_exposure</th></tr></thead><tbody><tr><td>Financials</td><td>25000.0</td></tr><tr><td>Telecom</td><td>10000.0</td></tr><tr><td>RealEstate</td><td>5000.0</td></tr><tr><td>Energy</td><td>8000.0</td></tr></tbody></table></div>"
      ]
     },
     "metadata": {
      "application/vnd.databricks.v1+output": {
       "addedWidgets": {},
       "aggData": [],
       "aggError": "",
       "aggOverflow": false,
       "aggSchema": [],
       "aggSeriesLimitReached": false,
       "aggType": "",
       "arguments": {},
       "columnCustomDisplayInfos": {},
       "data": [
        [
         "Financials",
         25000.0
        ],
        [
         "Telecom",
         10000.0
        ],
        [
         "RealEstate",
         5000.0
        ],
        [
         "Energy",
         8000.0
        ]
       ],
       "datasetInfos": [
        {
         "name": "_sqldf",
         "schema": {
          "fields": [
           {
            "metadata": {},
            "name": "sector",
            "nullable": true,
            "type": "string"
           },
           {
            "metadata": {},
            "name": "total_exposure",
            "nullable": true,
            "type": "double"
           }
          ],
          "type": "struct"
         },
         "tableIdentifier": null,
         "typeStr": "pyspark.sql.connect.dataframe.DataFrame"
        }
       ],
       "dbfsResultPath": null,
       "isJsonSchema": true,
       "metadata": {
        "createTempViewForImplicitDf": true,
        "dataframeName": "_sqldf",
        "executionCount": 241
       },
       "overflow": false,
       "plotOptions": {
        "customPlotOptions": {},
        "displayType": "table",
        "pivotAggregation": null,
        "pivotColumns": null,
        "xColumns": null,
        "yColumns": null
       },
       "removedWidgets": [],
       "schema": [
        {
         "metadata": "{}",
         "name": "sector",
         "type": "\"string\""
        },
        {
         "metadata": "{}",
         "name": "total_exposure",
         "type": "\"double\""
        }
       ],
       "type": "table"
      }
     },
     "output_type": "display_data"
    }
   ],
   "source": [
    "\n",
    "%sql\n",
    "\n",
    "select sector, sum(notional_double) as total_exposure from isg_exposures_view group by sector;\n"
   ]
  },
  {
   "cell_type": "code",
   "execution_count": 0,
   "metadata": {
    "application/vnd.databricks.v1+cell": {
     "cellMetadata": {
      "byteLimit": 2048000,
      "implicitDf": true,
      "rowLimit": 10000
     },
     "inputWidgets": {},
     "nuid": "12b6c451-adc6-402c-8a7e-78fccbd7112e",
     "showTitle": false,
     "tableResultSettingsMap": {},
     "title": ""
    }
   },
   "outputs": [],
   "source": [
    "%sql\n",
    "create or replace temporary view stress_position_view as select * , cast(replace(exposure, ',', '') as double) as exposure_double from stress_position"
   ]
  },
  {
   "cell_type": "code",
   "execution_count": 0,
   "metadata": {
    "application/vnd.databricks.v1+cell": {
     "cellMetadata": {
      "byteLimit": 2048000,
      "implicitDf": true,
      "rowLimit": 10000
     },
     "inputWidgets": {},
     "nuid": "3ab49cce-e550-471f-832b-695fb161b9a9",
     "showTitle": false,
     "tableResultSettingsMap": {},
     "title": ""
    }
   },
   "outputs": [
    {
     "output_type": "display_data",
     "data": {
      "text/html": [
       "<style scoped>\n",
       "  .table-result-container {\n",
       "    max-height: 300px;\n",
       "    overflow: auto;\n",
       "  }\n",
       "  table, th, td {\n",
       "    border: 1px solid black;\n",
       "    border-collapse: collapse;\n",
       "  }\n",
       "  th, td {\n",
       "    padding: 5px;\n",
       "  }\n",
       "  th {\n",
       "    text-align: left;\n",
       "  }\n",
       "</style><div class='table-result-container'><table class='table-result'><thead style='background-color: white'><tr><th>segment_id</th><th>product_type</th><th>exposure</th><th>expected_loss</th><th>exposure_double</th></tr></thead><tbody><tr><td>S001</td><td>Bond</td><td>10,000</td><td>0.015</td><td>10000.0</td></tr><tr><td>S002</td><td>Loan</td><td>5,000</td><td>0.03</td><td>5000.0</td></tr><tr><td>S003</td><td>Repo</td><td>2,000</td><td>0.005</td><td>2000.0</td></tr></tbody></table></div>"
      ]
     },
     "metadata": {
      "application/vnd.databricks.v1+output": {
       "addedWidgets": {},
       "aggData": [],
       "aggError": "",
       "aggOverflow": false,
       "aggSchema": [],
       "aggSeriesLimitReached": false,
       "aggType": "",
       "arguments": {},
       "columnCustomDisplayInfos": {},
       "data": [
        [
         "S001",
         "Bond",
         "10,000",
         0.015,
         10000.0
        ],
        [
         "S002",
         "Loan",
         "5,000",
         0.03,
         5000.0
        ],
        [
         "S003",
         "Repo",
         "2,000",
         0.005,
         2000.0
        ]
       ],
       "datasetInfos": [
        {
         "name": "_sqldf",
         "schema": {
          "fields": [
           {
            "metadata": {},
            "name": "segment_id",
            "nullable": true,
            "type": "string"
           },
           {
            "metadata": {},
            "name": "product_type",
            "nullable": true,
            "type": "string"
           },
           {
            "metadata": {},
            "name": "exposure",
            "nullable": true,
            "type": "string"
           },
           {
            "metadata": {},
            "name": "expected_loss",
            "nullable": true,
            "type": "double"
           },
           {
            "metadata": {},
            "name": "exposure_double",
            "nullable": true,
            "type": "double"
           }
          ],
          "type": "struct"
         },
         "tableIdentifier": null,
         "typeStr": "pyspark.sql.connect.dataframe.DataFrame"
        }
       ],
       "dbfsResultPath": null,
       "isJsonSchema": true,
       "metadata": {
        "createTempViewForImplicitDf": true,
        "dataframeName": "_sqldf",
        "executionCount": 252
       },
       "overflow": false,
       "plotOptions": {
        "customPlotOptions": {},
        "displayType": "table",
        "pivotAggregation": null,
        "pivotColumns": null,
        "xColumns": null,
        "yColumns": null
       },
       "removedWidgets": [],
       "schema": [
        {
         "metadata": "{}",
         "name": "segment_id",
         "type": "\"string\""
        },
        {
         "metadata": "{}",
         "name": "product_type",
         "type": "\"string\""
        },
        {
         "metadata": "{}",
         "name": "exposure",
         "type": "\"string\""
        },
        {
         "metadata": "{}",
         "name": "expected_loss",
         "type": "\"double\""
        },
        {
         "metadata": "{}",
         "name": "exposure_double",
         "type": "\"double\""
        }
       ],
       "type": "table"
      }
     },
     "output_type": "display_data"
    }
   ],
   "source": [
    "%sql\n",
    "select * from stress_position_view"
   ]
  },
  {
   "cell_type": "code",
   "execution_count": 0,
   "metadata": {
    "application/vnd.databricks.v1+cell": {
     "cellMetadata": {
      "byteLimit": 2048000,
      "implicitDf": true,
      "rowLimit": 10000
     },
     "inputWidgets": {},
     "nuid": "c9e5b220-bb98-412c-97a0-5a5bb7970e30",
     "showTitle": false,
     "tableResultSettingsMap": {},
     "title": ""
    }
   },
   "outputs": [
    {
     "output_type": "display_data",
     "data": {
      "text/html": [
       "<style scoped>\n",
       "  .table-result-container {\n",
       "    max-height: 300px;\n",
       "    overflow: auto;\n",
       "  }\n",
       "  table, th, td {\n",
       "    border: 1px solid black;\n",
       "    border-collapse: collapse;\n",
       "  }\n",
       "  th, td {\n",
       "    padding: 5px;\n",
       "  }\n",
       "  th {\n",
       "    text-align: left;\n",
       "  }\n",
       "</style><div class='table-result-container'><table class='table-result'><thead style='background-color: white'><tr><th>product_type</th><th>total_expected_loss</th></tr></thead><tbody><tr><td>Bond</td><td>150.0</td></tr><tr><td>Loan</td><td>150.0</td></tr><tr><td>Repo</td><td>10.0</td></tr></tbody></table></div>"
      ]
     },
     "metadata": {
      "application/vnd.databricks.v1+output": {
       "addedWidgets": {},
       "aggData": [],
       "aggError": "",
       "aggOverflow": false,
       "aggSchema": [],
       "aggSeriesLimitReached": false,
       "aggType": "",
       "arguments": {},
       "columnCustomDisplayInfos": {},
       "data": [
        [
         "Bond",
         150.0
        ],
        [
         "Loan",
         150.0
        ],
        [
         "Repo",
         10.0
        ]
       ],
       "datasetInfos": [
        {
         "name": "_sqldf",
         "schema": {
          "fields": [
           {
            "metadata": {},
            "name": "product_type",
            "nullable": true,
            "type": "string"
           },
           {
            "metadata": {},
            "name": "total_expected_loss",
            "nullable": true,
            "type": "double"
           }
          ],
          "type": "struct"
         },
         "tableIdentifier": null,
         "typeStr": "pyspark.sql.connect.dataframe.DataFrame"
        }
       ],
       "dbfsResultPath": null,
       "isJsonSchema": true,
       "metadata": {
        "createTempViewForImplicitDf": true,
        "dataframeName": "_sqldf",
        "executionCount": 254
       },
       "overflow": false,
       "plotOptions": {
        "customPlotOptions": {},
        "displayType": "table",
        "pivotAggregation": null,
        "pivotColumns": null,
        "xColumns": null,
        "yColumns": null
       },
       "removedWidgets": [],
       "schema": [
        {
         "metadata": "{}",
         "name": "product_type",
         "type": "\"string\""
        },
        {
         "metadata": "{}",
         "name": "total_expected_loss",
         "type": "\"double\""
        }
       ],
       "type": "table"
      }
     },
     "output_type": "display_data"
    }
   ],
   "source": [
    "%sql\n",
    "\n",
    "select product_type , sum(exposure_double * expected_loss) as total_expected_loss from stress_position_view group by product_type"
   ]
  },
  {
   "cell_type": "code",
   "execution_count": 0,
   "metadata": {
    "application/vnd.databricks.v1+cell": {
     "cellMetadata": {
      "byteLimit": 2048000,
      "implicitDf": true,
      "rowLimit": 10000
     },
     "inputWidgets": {},
     "nuid": "b4afa83f-cb63-4444-8cb1-1906e3b1dbbc",
     "showTitle": false,
     "tableResultSettingsMap": {},
     "title": ""
    }
   },
   "outputs": [
    {
     "output_type": "display_data",
     "data": {
      "text/html": [
       "<style scoped>\n",
       "  .table-result-container {\n",
       "    max-height: 300px;\n",
       "    overflow: auto;\n",
       "  }\n",
       "  table, th, td {\n",
       "    border: 1px solid black;\n",
       "    border-collapse: collapse;\n",
       "  }\n",
       "  th, td {\n",
       "    padding: 5px;\n",
       "  }\n",
       "  th {\n",
       "    text-align: left;\n",
       "  }\n",
       "</style><div class='table-result-container'><table class='table-result'><thead style='background-color: white'><tr><th>loan_id</th><th>orig_date</th><th>fico_bin</th><th>cltv_bin</th><th>MOB</th><th>product_type</th><th>exposure</th><th>as_of_date</th></tr></thead><tbody><tr><td>L001</td><td>1/1/2022</td><td>660-700</td><td>80-90</td><td>39.0</td><td>Term Loan</td><td>1,000</td><td>4/1/2025</td></tr><tr><td>L002</td><td>6/1/2023</td><td>720-750</td><td>70-80</td><td>22.0</td><td>Revolver</td><td>500</td><td>4/1/2025</td></tr><tr><td>L003</td><td>4/1/2021</td><td>600-640</td><td>90-100</td><td>48.0</td><td>Term Loan</td><td>2,000</td><td>4/1/2025</td></tr><tr><td>null</td><td>null</td><td>null</td><td>null</td><td>null</td><td>null</td><td>null</td><td>null</td></tr></tbody></table></div>"
      ]
     },
     "metadata": {
      "application/vnd.databricks.v1+output": {
       "addedWidgets": {},
       "aggData": [],
       "aggError": "",
       "aggOverflow": false,
       "aggSchema": [],
       "aggSeriesLimitReached": false,
       "aggType": "",
       "arguments": {},
       "columnCustomDisplayInfos": {},
       "data": [
        [
         "L001",
         "1/1/2022",
         "660-700",
         "80-90",
         39.0,
         "Term Loan",
         "1,000",
         "4/1/2025"
        ],
        [
         "L002",
         "6/1/2023",
         "720-750",
         "70-80",
         22.0,
         "Revolver",
         "500",
         "4/1/2025"
        ],
        [
         "L003",
         "4/1/2021",
         "600-640",
         "90-100",
         48.0,
         "Term Loan",
         "2,000",
         "4/1/2025"
        ],
        [
         null,
         null,
         null,
         null,
         null,
         null,
         null,
         null
        ]
       ],
       "datasetInfos": [
        {
         "name": "_sqldf",
         "schema": {
          "fields": [
           {
            "metadata": {},
            "name": "loan_id",
            "nullable": true,
            "type": "string"
           },
           {
            "metadata": {},
            "name": "orig_date",
            "nullable": true,
            "type": "string"
           },
           {
            "metadata": {},
            "name": "fico_bin",
            "nullable": true,
            "type": "string"
           },
           {
            "metadata": {},
            "name": "cltv_bin",
            "nullable": true,
            "type": "string"
           },
           {
            "metadata": {},
            "name": "MOB",
            "nullable": true,
            "type": "double"
           },
           {
            "metadata": {},
            "name": "product_type",
            "nullable": true,
            "type": "string"
           },
           {
            "metadata": {},
            "name": "exposure",
            "nullable": true,
            "type": "string"
           },
           {
            "metadata": {},
            "name": "as_of_date",
            "nullable": true,
            "type": "string"
           }
          ],
          "type": "struct"
         },
         "tableIdentifier": null,
         "typeStr": "pyspark.sql.connect.dataframe.DataFrame"
        }
       ],
       "dbfsResultPath": null,
       "isJsonSchema": true,
       "metadata": {
        "createTempViewForImplicitDf": true,
        "dataframeName": "_sqldf",
        "executionCount": 261
       },
       "overflow": false,
       "plotOptions": {
        "customPlotOptions": {},
        "displayType": "table",
        "pivotAggregation": null,
        "pivotColumns": null,
        "xColumns": null,
        "yColumns": null
       },
       "removedWidgets": [],
       "schema": [
        {
         "metadata": "{}",
         "name": "loan_id",
         "type": "\"string\""
        },
        {
         "metadata": "{}",
         "name": "orig_date",
         "type": "\"string\""
        },
        {
         "metadata": "{}",
         "name": "fico_bin",
         "type": "\"string\""
        },
        {
         "metadata": "{}",
         "name": "cltv_bin",
         "type": "\"string\""
        },
        {
         "metadata": "{}",
         "name": "MOB",
         "type": "\"double\""
        },
        {
         "metadata": "{}",
         "name": "product_type",
         "type": "\"string\""
        },
        {
         "metadata": "{}",
         "name": "exposure",
         "type": "\"string\""
        },
        {
         "metadata": "{}",
         "name": "as_of_date",
         "type": "\"string\""
        }
       ],
       "type": "table"
      }
     },
     "output_type": "display_data"
    }
   ],
   "source": [
    "%sql\n",
    "select * from loan_book"
   ]
  },
  {
   "cell_type": "code",
   "execution_count": 0,
   "metadata": {
    "application/vnd.databricks.v1+cell": {
     "cellMetadata": {
      "byteLimit": 2048000,
      "implicitDf": true,
      "rowLimit": 10000
     },
     "inputWidgets": {},
     "nuid": "c85e7107-b37a-4493-a6e7-f8d4b74b3567",
     "showTitle": false,
     "tableResultSettingsMap": {},
     "title": ""
    }
   },
   "outputs": [],
   "source": [
    "%sql\n",
    "create or replace temporary view loan_book_view as select * , cast(replace(exposure, ',', '') as double) as exposure_double from loan_book"
   ]
  },
  {
   "cell_type": "code",
   "execution_count": 0,
   "metadata": {
    "application/vnd.databricks.v1+cell": {
     "cellMetadata": {
      "byteLimit": 2048000,
      "implicitDf": true,
      "rowLimit": 10000
     },
     "inputWidgets": {},
     "nuid": "5d23b3c2-c6ac-419f-b68d-fa4034321f10",
     "showTitle": false,
     "tableResultSettingsMap": {},
     "title": ""
    }
   },
   "outputs": [
    {
     "output_type": "display_data",
     "data": {
      "text/html": [
       "<style scoped>\n",
       "  .table-result-container {\n",
       "    max-height: 300px;\n",
       "    overflow: auto;\n",
       "  }\n",
       "  table, th, td {\n",
       "    border: 1px solid black;\n",
       "    border-collapse: collapse;\n",
       "  }\n",
       "  th, td {\n",
       "    padding: 5px;\n",
       "  }\n",
       "  th {\n",
       "    text-align: left;\n",
       "  }\n",
       "</style><div class='table-result-container'><table class='table-result'><thead style='background-color: white'><tr><th>as_of_date</th><th>total_exposure</th></tr></thead><tbody><tr><td>null</td><td>null</td></tr><tr><td>4/1/2025</td><td>3500.0</td></tr></tbody></table></div>"
      ]
     },
     "metadata": {
      "application/vnd.databricks.v1+output": {
       "addedWidgets": {},
       "aggData": [],
       "aggError": "",
       "aggOverflow": false,
       "aggSchema": [],
       "aggSeriesLimitReached": false,
       "aggType": "",
       "arguments": {},
       "columnCustomDisplayInfos": {},
       "data": [
        [
         null,
         null
        ],
        [
         "4/1/2025",
         3500.0
        ]
       ],
       "datasetInfos": [
        {
         "name": "_sqldf",
         "schema": {
          "fields": [
           {
            "metadata": {},
            "name": "as_of_date",
            "nullable": true,
            "type": "string"
           },
           {
            "metadata": {},
            "name": "total_exposure",
            "nullable": true,
            "type": "double"
           }
          ],
          "type": "struct"
         },
         "tableIdentifier": null,
         "typeStr": "pyspark.sql.connect.dataframe.DataFrame"
        }
       ],
       "dbfsResultPath": null,
       "isJsonSchema": true,
       "metadata": {
        "createTempViewForImplicitDf": true,
        "dataframeName": "_sqldf",
        "executionCount": 271
       },
       "overflow": false,
       "plotOptions": {
        "customPlotOptions": {},
        "displayType": "table",
        "pivotAggregation": null,
        "pivotColumns": null,
        "xColumns": null,
        "yColumns": null
       },
       "removedWidgets": [],
       "schema": [
        {
         "metadata": "{}",
         "name": "as_of_date",
         "type": "\"string\""
        },
        {
         "metadata": "{}",
         "name": "total_exposure",
         "type": "\"double\""
        }
       ],
       "type": "table"
      }
     },
     "output_type": "display_data"
    }
   ],
   "source": [
    "%sql\n",
    "select as_of_date, sum(exposure_double) as total_exposure from loan_book_view group by as_of_date order by as_of_date"
   ]
  },
  {
   "cell_type": "code",
   "execution_count": 0,
   "metadata": {
    "application/vnd.databricks.v1+cell": {
     "cellMetadata": {
      "byteLimit": 2048000,
      "implicitDf": true,
      "rowLimit": 10000
     },
     "inputWidgets": {},
     "nuid": "ac4bb971-5fbf-48c3-8292-05cb46af041d",
     "showTitle": false,
     "tableResultSettingsMap": {},
     "title": ""
    }
   },
   "outputs": [
    {
     "output_type": "display_data",
     "data": {
      "text/html": [
       "<style scoped>\n",
       "  .table-result-container {\n",
       "    max-height: 300px;\n",
       "    overflow: auto;\n",
       "  }\n",
       "  table, th, td {\n",
       "    border: 1px solid black;\n",
       "    border-collapse: collapse;\n",
       "  }\n",
       "  th, td {\n",
       "    padding: 5px;\n",
       "  }\n",
       "  th {\n",
       "    text-align: left;\n",
       "  }\n",
       "</style><div class='table-result-container'><table class='table-result'><thead style='background-color: white'><tr><th>trade_id</th><th>instrument_type</th><th>issuer</th><th>market_value</th><th>sector</th><th>rating</th><th>duration</th><th>spread</th><th>as_of_date</th><th>Unnamed: 9</th></tr></thead><tbody><tr><td>TB001</td><td>Bond</td><td>T-Mobile</td><td>3000000.0</td><td>Telecom</td><td>BBB</td><td>5.0</td><td>2.3</td><td>3/31/2025</td><td>null</td></tr><tr><td>TB002</td><td>CDS</td><td>Chevron</td><td>1500000.0</td><td>Energy</td><td>A</td><td>3.0</td><td>1.8</td><td>3/31/2025</td><td>null</td></tr><tr><td>TB003</td><td>MBS</td><td>FannieMae</td><td>2500000.0</td><td>Mortgages</td><td>AA</td><td>6.0</td><td>1.5</td><td>3/31/2025</td><td>null</td></tr></tbody></table></div>"
      ]
     },
     "metadata": {
      "application/vnd.databricks.v1+output": {
       "addedWidgets": {},
       "aggData": [],
       "aggError": "",
       "aggOverflow": false,
       "aggSchema": [],
       "aggSeriesLimitReached": false,
       "aggType": "",
       "arguments": {},
       "columnCustomDisplayInfos": {},
       "data": [
        [
         "TB001",
         "Bond",
         "T-Mobile",
         3000000.0,
         "Telecom",
         "BBB",
         5.0,
         2.3,
         "3/31/2025",
         null
        ],
        [
         "TB002",
         "CDS",
         "Chevron",
         1500000.0,
         "Energy",
         "A",
         3.0,
         1.8,
         "3/31/2025",
         null
        ],
        [
         "TB003",
         "MBS",
         "FannieMae",
         2500000.0,
         "Mortgages",
         "AA",
         6.0,
         1.5,
         "3/31/2025",
         null
        ]
       ],
       "datasetInfos": [
        {
         "name": "_sqldf",
         "schema": {
          "fields": [
           {
            "metadata": {},
            "name": "trade_id",
            "nullable": true,
            "type": "string"
           },
           {
            "metadata": {},
            "name": "instrument_type",
            "nullable": true,
            "type": "string"
           },
           {
            "metadata": {},
            "name": "issuer",
            "nullable": true,
            "type": "string"
           },
           {
            "metadata": {},
            "name": "market_value",
            "nullable": true,
            "type": "double"
           },
           {
            "metadata": {},
            "name": "sector",
            "nullable": true,
            "type": "string"
           },
           {
            "metadata": {},
            "name": "rating",
            "nullable": true,
            "type": "string"
           },
           {
            "metadata": {},
            "name": "duration",
            "nullable": true,
            "type": "double"
           },
           {
            "metadata": {},
            "name": "spread",
            "nullable": true,
            "type": "double"
           },
           {
            "metadata": {},
            "name": "as_of_date",
            "nullable": true,
            "type": "string"
           },
           {
            "metadata": {},
            "name": "Unnamed: 9",
            "nullable": true,
            "type": "double"
           }
          ],
          "type": "struct"
         },
         "tableIdentifier": null,
         "typeStr": "pyspark.sql.connect.dataframe.DataFrame"
        }
       ],
       "dbfsResultPath": null,
       "isJsonSchema": true,
       "metadata": {
        "createTempViewForImplicitDf": true,
        "dataframeName": "_sqldf",
        "executionCount": 273
       },
       "overflow": false,
       "plotOptions": {
        "customPlotOptions": {},
        "displayType": "table",
        "pivotAggregation": null,
        "pivotColumns": null,
        "xColumns": null,
        "yColumns": null
       },
       "removedWidgets": [],
       "schema": [
        {
         "metadata": "{}",
         "name": "trade_id",
         "type": "\"string\""
        },
        {
         "metadata": "{}",
         "name": "instrument_type",
         "type": "\"string\""
        },
        {
         "metadata": "{}",
         "name": "issuer",
         "type": "\"string\""
        },
        {
         "metadata": "{}",
         "name": "market_value",
         "type": "\"double\""
        },
        {
         "metadata": "{}",
         "name": "sector",
         "type": "\"string\""
        },
        {
         "metadata": "{}",
         "name": "rating",
         "type": "\"string\""
        },
        {
         "metadata": "{}",
         "name": "duration",
         "type": "\"double\""
        },
        {
         "metadata": "{}",
         "name": "spread",
         "type": "\"double\""
        },
        {
         "metadata": "{}",
         "name": "as_of_date",
         "type": "\"string\""
        },
        {
         "metadata": "{}",
         "name": "Unnamed: 9",
         "type": "\"double\""
        }
       ],
       "type": "table"
      }
     },
     "output_type": "display_data"
    }
   ],
   "source": [
    "%sql\n",
    "select * from trading_book where as_of_date= '3/31/2025'"
   ]
  },
  {
   "cell_type": "code",
   "execution_count": 0,
   "metadata": {
    "application/vnd.databricks.v1+cell": {
     "cellMetadata": {
      "byteLimit": 2048000,
      "rowLimit": 10000
     },
     "inputWidgets": {},
     "nuid": "9be276d3-6b35-4285-ac53-31a484e5273a",
     "showTitle": false,
     "tableResultSettingsMap": {},
     "title": ""
    }
   },
   "outputs": [
    {
     "output_type": "execute_result",
     "data": {
      "text/html": [
       "<div>\n",
       "<style scoped>\n",
       "    .dataframe tbody tr th:only-of-type {\n",
       "        vertical-align: middle;\n",
       "    }\n",
       "\n",
       "    .dataframe tbody tr th {\n",
       "        vertical-align: top;\n",
       "    }\n",
       "\n",
       "    .dataframe thead th {\n",
       "        text-align: right;\n",
       "    }\n",
       "</style>\n",
       "<table border=\"1\" class=\"dataframe\">\n",
       "  <thead>\n",
       "    <tr style=\"text-align: right;\">\n",
       "      <th></th>\n",
       "      <th>bond_id</th>\n",
       "      <th>issuer</th>\n",
       "      <th>market_price</th>\n",
       "      <th>prior_price</th>\n",
       "      <th>accrued_interest</th>\n",
       "      <th>as_of_date</th>\n",
       "      <th>Unnamed: 6</th>\n",
       "      <th>Unnamed: 7</th>\n",
       "    </tr>\n",
       "  </thead>\n",
       "  <tbody>\n",
       "    <tr>\n",
       "      <th>0</th>\n",
       "      <td>B001</td>\n",
       "      <td>Apple</td>\n",
       "      <td>98.50</td>\n",
       "      <td>100.0</td>\n",
       "      <td>0.30</td>\n",
       "      <td>3/31/2025</td>\n",
       "      <td>NaN</td>\n",
       "      <td>NaN</td>\n",
       "    </tr>\n",
       "    <tr>\n",
       "      <th>1</th>\n",
       "      <td>B002</td>\n",
       "      <td>GM</td>\n",
       "      <td>95.25</td>\n",
       "      <td>99.0</td>\n",
       "      <td>0.45</td>\n",
       "      <td>3/31/2025</td>\n",
       "      <td>NaN</td>\n",
       "      <td>NaN</td>\n",
       "    </tr>\n",
       "    <tr>\n",
       "      <th>2</th>\n",
       "      <td>NaN</td>\n",
       "      <td>NaN</td>\n",
       "      <td>NaN</td>\n",
       "      <td>NaN</td>\n",
       "      <td>NaN</td>\n",
       "      <td>NaN</td>\n",
       "      <td>NaN</td>\n",
       "      <td>NaN</td>\n",
       "    </tr>\n",
       "    <tr>\n",
       "      <th>3</th>\n",
       "      <td>NaN</td>\n",
       "      <td>NaN</td>\n",
       "      <td>NaN</td>\n",
       "      <td>NaN</td>\n",
       "      <td>NaN</td>\n",
       "      <td>NaN</td>\n",
       "      <td>NaN</td>\n",
       "      <td>NaN</td>\n",
       "    </tr>\n",
       "  </tbody>\n",
       "</table>\n",
       "</div>"
      ],
      "text/plain": [
       "  bond_id issuer  market_price  ...  as_of_date  Unnamed: 6 Unnamed: 7\n",
       "0    B001  Apple         98.50  ...   3/31/2025         NaN        NaN\n",
       "1    B002     GM         95.25  ...   3/31/2025         NaN        NaN\n",
       "2     NaN    NaN           NaN  ...         NaN         NaN        NaN\n",
       "3     NaN    NaN           NaN  ...         NaN         NaN        NaN\n",
       "\n",
       "[4 rows x 8 columns]"
      ]
     },
     "execution_count": 276,
     "metadata": {},
     "output_type": "execute_result"
    }
   ],
   "source": [
    "bond_position= pd.read_csv(\"/Workspace/Users/rohankumarlnu@gmail.com/bond_positions.csv\")\n",
    "bond_position"
   ]
  },
  {
   "cell_type": "code",
   "execution_count": 0,
   "metadata": {
    "application/vnd.databricks.v1+cell": {
     "cellMetadata": {
      "byteLimit": 2048000,
      "rowLimit": 10000
     },
     "inputWidgets": {},
     "nuid": "6437282a-eefa-4c55-976c-cd37feb59e73",
     "showTitle": false,
     "tableResultSettingsMap": {},
     "title": ""
    }
   },
   "outputs": [],
   "source": [
    "spark_bond_position= spark.createDataFrame(bond_position)\n",
    "spark_bond_position.createOrReplaceTempView(\"bond_position\")"
   ]
  },
  {
   "cell_type": "code",
   "execution_count": 0,
   "metadata": {
    "application/vnd.databricks.v1+cell": {
     "cellMetadata": {
      "byteLimit": 2048000,
      "implicitDf": true,
      "rowLimit": 10000
     },
     "inputWidgets": {},
     "nuid": "ba2753a6-0b7e-4883-982e-5a2f54a3a443",
     "showTitle": false,
     "tableResultSettingsMap": {},
     "title": ""
    }
   },
   "outputs": [
    {
     "output_type": "display_data",
     "data": {
      "text/html": [
       "<style scoped>\n",
       "  .table-result-container {\n",
       "    max-height: 300px;\n",
       "    overflow: auto;\n",
       "  }\n",
       "  table, th, td {\n",
       "    border: 1px solid black;\n",
       "    border-collapse: collapse;\n",
       "  }\n",
       "  th, td {\n",
       "    padding: 5px;\n",
       "  }\n",
       "  th {\n",
       "    text-align: left;\n",
       "  }\n",
       "</style><div class='table-result-container'><table class='table-result'><thead style='background-color: white'><tr><th>bond_id</th><th>price_change</th><th>accrued_interest</th></tr></thead><tbody><tr><td>B001</td><td>-1.5</td><td>0.3</td></tr><tr><td>B002</td><td>-3.75</td><td>0.45</td></tr><tr><td>null</td><td>null</td><td>null</td></tr><tr><td>null</td><td>null</td><td>null</td></tr></tbody></table></div>"
      ]
     },
     "metadata": {
      "application/vnd.databricks.v1+output": {
       "addedWidgets": {},
       "aggData": [],
       "aggError": "",
       "aggOverflow": false,
       "aggSchema": [],
       "aggSeriesLimitReached": false,
       "aggType": "",
       "arguments": {},
       "columnCustomDisplayInfos": {},
       "data": [
        [
         "B001",
         -1.5,
         0.3
        ],
        [
         "B002",
         -3.75,
         0.45
        ],
        [
         null,
         null,
         null
        ],
        [
         null,
         null,
         null
        ]
       ],
       "datasetInfos": [
        {
         "name": "_sqldf",
         "schema": {
          "fields": [
           {
            "metadata": {},
            "name": "bond_id",
            "nullable": true,
            "type": "string"
           },
           {
            "metadata": {},
            "name": "price_change",
            "nullable": true,
            "type": "double"
           },
           {
            "metadata": {},
            "name": "accrued_interest",
            "nullable": true,
            "type": "double"
           }
          ],
          "type": "struct"
         },
         "tableIdentifier": null,
         "typeStr": "pyspark.sql.connect.dataframe.DataFrame"
        }
       ],
       "dbfsResultPath": null,
       "isJsonSchema": true,
       "metadata": {
        "createTempViewForImplicitDf": true,
        "dataframeName": "_sqldf",
        "executionCount": 283
       },
       "overflow": false,
       "plotOptions": {
        "customPlotOptions": {},
        "displayType": "table",
        "pivotAggregation": null,
        "pivotColumns": null,
        "xColumns": null,
        "yColumns": null
       },
       "removedWidgets": [],
       "schema": [
        {
         "metadata": "{}",
         "name": "bond_id",
         "type": "\"string\""
        },
        {
         "metadata": "{}",
         "name": "price_change",
         "type": "\"double\""
        },
        {
         "metadata": "{}",
         "name": "accrued_interest",
         "type": "\"double\""
        }
       ],
       "type": "table"
      }
     },
     "output_type": "display_data"
    }
   ],
   "source": [
    "%sql\n",
    "select bond_id, market_price - prior_price as price_change, accrued_interest from bond_position"
   ]
  },
  {
   "cell_type": "code",
   "execution_count": 0,
   "metadata": {
    "application/vnd.databricks.v1+cell": {
     "cellMetadata": {
      "byteLimit": 2048000,
      "implicitDf": true,
      "rowLimit": 10000
     },
     "inputWidgets": {},
     "nuid": "ed5751a8-c44f-4553-a94b-bff691145f0a",
     "showTitle": false,
     "tableResultSettingsMap": {},
     "title": ""
    }
   },
   "outputs": [
    {
     "output_type": "display_data",
     "data": {
      "text/html": [
       "<style scoped>\n",
       "  .table-result-container {\n",
       "    max-height: 300px;\n",
       "    overflow: auto;\n",
       "  }\n",
       "  table, th, td {\n",
       "    border: 1px solid black;\n",
       "    border-collapse: collapse;\n",
       "  }\n",
       "  th, td {\n",
       "    padding: 5px;\n",
       "  }\n",
       "  th {\n",
       "    text-align: left;\n",
       "  }\n",
       "</style><div class='table-result-container'><table class='table-result'><thead style='background-color: white'><tr><th>as_of_date</th><th>total_exposure</th></tr></thead><tbody><tr><td>null</td><td>null</td></tr><tr><td>3/31/2025</td><td>2.5E7</td></tr></tbody></table></div>"
      ]
     },
     "metadata": {
      "application/vnd.databricks.v1+output": {
       "addedWidgets": {},
       "aggData": [],
       "aggError": "",
       "aggOverflow": false,
       "aggSchema": [],
       "aggSeriesLimitReached": false,
       "aggType": "",
       "arguments": {},
       "columnCustomDisplayInfos": {},
       "data": [
        [
         null,
         null
        ],
        [
         "3/31/2025",
         2.5E7
        ]
       ],
       "datasetInfos": [
        {
         "name": "_sqldf",
         "schema": {
          "fields": [
           {
            "metadata": {},
            "name": "as_of_date",
            "nullable": true,
            "type": "string"
           },
           {
            "metadata": {},
            "name": "total_exposure",
            "nullable": true,
            "type": "double"
           }
          ],
          "type": "struct"
         },
         "tableIdentifier": null,
         "typeStr": "pyspark.sql.connect.dataframe.DataFrame"
        }
       ],
       "dbfsResultPath": null,
       "isJsonSchema": true,
       "metadata": {
        "createTempViewForImplicitDf": true,
        "dataframeName": "_sqldf",
        "executionCount": 301
       },
       "overflow": false,
       "plotOptions": {
        "customPlotOptions": {},
        "displayType": "table",
        "pivotAggregation": null,
        "pivotColumns": null,
        "xColumns": null,
        "yColumns": null
       },
       "removedWidgets": [],
       "schema": [
        {
         "metadata": "{}",
         "name": "as_of_date",
         "type": "\"string\""
        },
        {
         "metadata": "{}",
         "name": "total_exposure",
         "type": "\"double\""
        }
       ],
       "type": "table"
      }
     },
     "output_type": "display_data"
    }
   ],
   "source": [
    "%sql\n",
    "select as_of_date, sum(exposure_amt) as total_exposure from isg_lending group by as_of_date order by as_of_date"
   ]
  },
  {
   "cell_type": "code",
   "execution_count": 0,
   "metadata": {
    "application/vnd.databricks.v1+cell": {
     "cellMetadata": {
      "byteLimit": 2048000,
      "implicitDf": true,
      "rowLimit": 10000
     },
     "inputWidgets": {},
     "nuid": "9efd39d2-4377-4039-bccc-6ceb0a5fc6ea",
     "showTitle": false,
     "tableResultSettingsMap": {},
     "title": ""
    }
   },
   "outputs": [
    {
     "output_type": "display_data",
     "data": {
      "text/html": [
       "<style scoped>\n",
       "  .table-result-container {\n",
       "    max-height: 300px;\n",
       "    overflow: auto;\n",
       "  }\n",
       "  table, th, td {\n",
       "    border: 1px solid black;\n",
       "    border-collapse: collapse;\n",
       "  }\n",
       "  th, td {\n",
       "    padding: 5px;\n",
       "  }\n",
       "  th {\n",
       "    text-align: left;\n",
       "  }\n",
       "</style><div class='table-result-container'><table class='table-result'><thead style='background-color: white'><tr><th>loan_id</th><th>count(*)</th></tr></thead><tbody></tbody></table></div>"
      ]
     },
     "metadata": {
      "application/vnd.databricks.v1+output": {
       "addedWidgets": {},
       "aggData": [],
       "aggError": "",
       "aggOverflow": false,
       "aggSchema": [],
       "aggSeriesLimitReached": false,
       "aggType": "",
       "arguments": {},
       "columnCustomDisplayInfos": {},
       "data": [],
       "datasetInfos": [
        {
         "name": "_sqldf",
         "schema": {
          "fields": [
           {
            "metadata": {},
            "name": "loan_id",
            "nullable": true,
            "type": "string"
           },
           {
            "metadata": {},
            "name": "count(*)",
            "nullable": false,
            "type": "long"
           }
          ],
          "type": "struct"
         },
         "tableIdentifier": null,
         "typeStr": "pyspark.sql.connect.dataframe.DataFrame"
        }
       ],
       "dbfsResultPath": null,
       "isJsonSchema": true,
       "metadata": {
        "createTempViewForImplicitDf": true,
        "dataframeName": "_sqldf",
        "executionCount": 303
       },
       "overflow": false,
       "plotOptions": {
        "customPlotOptions": {},
        "displayType": "table",
        "pivotAggregation": null,
        "pivotColumns": null,
        "xColumns": null,
        "yColumns": null
       },
       "removedWidgets": [],
       "schema": [
        {
         "metadata": "{}",
         "name": "loan_id",
         "type": "\"string\""
        },
        {
         "metadata": "{}",
         "name": "count(*)",
         "type": "\"long\""
        }
       ],
       "type": "table"
      }
     },
     "output_type": "display_data"
    }
   ],
   "source": [
    "%sql\n",
    "select loan_id, count(*) from loan_book_view group by loan_id having count(*) >1"
   ]
  }
 ],
 "metadata": {
  "application/vnd.databricks.v1+notebook": {
   "computePreferences": null,
   "dashboards": [],
   "environmentMetadata": {
    "base_environment": "",
    "environment_version": "2"
   },
   "inputWidgetPreferences": null,
   "language": "python",
   "notebookMetadata": {
    "mostRecentlyExecutedCommandWithImplicitDF": {
     "commandId": 8926633290191137,
     "dataframes": [
      "_sqldf"
     ]
    },
    "pythonIndentUnit": 4
   },
   "notebookName": "DataBricks SQL",
   "widgets": {}
  },
  "language_info": {
   "name": "python"
  }
 },
 "nbformat": 4,
 "nbformat_minor": 0
}